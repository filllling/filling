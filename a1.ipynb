{
  "nbformat": 4,
  "nbformat_minor": 0,
  "metadata": {
    "colab": {
      "provenance": [],
      "toc_visible": true,
      "authorship_tag": "ABX9TyN03f/WpsTMpldOkGjvsw9x",
      "include_colab_link": true
    },
    "kernelspec": {
      "name": "python3",
      "display_name": "Python 3"
    },
    "language_info": {
      "name": "python"
    }
  },
  "cells": [
    {
      "cell_type": "markdown",
      "metadata": {
        "id": "view-in-github",
        "colab_type": "text"
      },
      "source": [
        "<a href=\"https://colab.research.google.com/github/filllling/filling/blob/main/a1.ipynb\" target=\"_parent\"><img src=\"https://colab.research.google.com/assets/colab-badge.svg\" alt=\"Open In Colab\"/></a>"
      ]
    },
    {
      "cell_type": "code",
      "execution_count": 2,
      "metadata": {
        "id": "7NyORuJEzeBQ"
      },
      "outputs": [],
      "source": [
        "import pandas as pd\n",
        "\n",
        "d1=pd.read_excel(\"附件1.xlsx\")\n",
        "df=pd.read_excel(\"附件3.xlsx\")\n",
        "#时间序列处理\n",
        "df['日期'] = pd.to_datetime(df['日期'])\n",
        "df['月份'] = df['日期'].dt.month\n",
        "mapping_dict = d1.set_index('单品编码')['分类名称'].to_dict()\n",
        "df['品类'] = df['单品编码'].map(mapping_dict)"
      ]
    },
    {
      "cell_type": "code",
      "source": [
        "df"
      ],
      "metadata": {
        "id": "i7nwwpGJ0EBx"
      },
      "execution_count": null,
      "outputs": []
    },
    {
      "cell_type": "markdown",
      "source": [
        "## 1.1 数据预处理及EDA"
      ],
      "metadata": {
        "id": "oukMUaXX0ooS"
      }
    },
    {
      "cell_type": "markdown",
      "source": [
        "#### **表格处理**"
      ],
      "metadata": {
        "id": "Gy6FMr4a1MCU"
      }
    },
    {
      "cell_type": "markdown",
      "source": [
        "\n",
        "-  **拼接**\n",
        "\n",
        "-  **变量处理**\n",
        "   + 时间序列处理\n",
        "   + 分类变量编码：one-hot编码\n",
        "-  **数据聚合**:\n",
        "    - 以日、周、年、月聚合\n",
        "    - 数据聚合后变量的 定义\n",
        "    - 加成率的定义"
      ],
      "metadata": {
        "id": "Vz9JvQmo0864"
      }
    },
    {
      "cell_type": "markdown",
      "source": [
        "#### **数据清洗**"
      ],
      "metadata": {
        "id": "hzffPB2n0-JX"
      }
    },
    {
      "cell_type": "markdown",
      "source": [
        "- 不合理数据的探讨\n",
        "- 缺失值的填充\n",
        "- 异常值的填充\n",
        "- 无效数据的剔除"
      ],
      "metadata": {
        "id": "WWaA1M-q1IfR"
      }
    },
    {
      "cell_type": "code",
      "source": [],
      "metadata": {
        "id": "RlOPFkw81HG6"
      },
      "execution_count": 5,
      "outputs": []
    }
  ]
}